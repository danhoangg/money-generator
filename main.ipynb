{
 "cells": [
  {
   "cell_type": "markdown",
   "id": "4a20ff4a-56aa-41ee-98a5-5f6b15df782a",
   "metadata": {},
   "source": [
    "# LSTM Neural Network to predict stock movement\n",
    "This is a neural network that takes in the past however many candlesticks worth of information and uses that to predict the next close price. Currently it the information fed to it needs to be a csv in the format `snapshotTimeUTC,openPrice,highPrice,lowPrice,closePrice,lastTradedVolume`.\\\n",
    "It uses LSTM networks to try and get the neural network to understand complex patterns and trends that are present in stock prices"
   ]
  },
  {
   "cell_type": "code",
   "execution_count": 1,
   "id": "a9cea9b4d5c33f18",
   "metadata": {
    "ExecuteTime": {
     "end_time": "2024-04-04T13:55:53.169076800Z",
     "start_time": "2024-04-04T13:55:51.849268900Z"
    },
    "collapsed": false,
    "jupyter": {
     "outputs_hidden": false
    }
   },
   "outputs": [
    {
     "name": "stdout",
     "output_type": "stream",
     "text": [
      "Collecting scikit-learn\n",
      "  Downloading scikit_learn-1.4.1.post1-cp311-cp311-manylinux_2_17_x86_64.manylinux2014_x86_64.whl.metadata (11 kB)\n",
      "Collecting pandas\n",
      "  Downloading pandas-2.2.1-cp311-cp311-manylinux_2_17_x86_64.manylinux2014_x86_64.whl.metadata (19 kB)\n",
      "Requirement already satisfied: numpy in /usr/local/lib/python3.11/dist-packages (1.26.4)\n",
      "Requirement already satisfied: keras in /usr/local/lib/python3.11/dist-packages (3.0.5)\n",
      "Collecting matplotlib\n",
      "  Downloading matplotlib-3.8.4-cp311-cp311-manylinux_2_17_x86_64.manylinux2014_x86_64.whl.metadata (5.8 kB)\n",
      "Collecting keras-tuner\n",
      "  Downloading keras_tuner-1.4.7-py3-none-any.whl.metadata (5.4 kB)\n",
      "Requirement already satisfied: tensorflow in /usr/local/lib/python3.11/dist-packages (2.16.1)\n",
      "Collecting scipy>=1.6.0 (from scikit-learn)\n",
      "  Downloading scipy-1.13.0-cp311-cp311-manylinux_2_17_x86_64.manylinux2014_x86_64.whl.metadata (60 kB)\n",
      "\u001b[2K     \u001b[90m━━━━━━━━━━━━━━━━━━━━━━━━━━━━━━━━━━━━━━━━\u001b[0m \u001b[32m60.6/60.6 kB\u001b[0m \u001b[31m1.3 MB/s\u001b[0m eta \u001b[36m0:00:00\u001b[0ma \u001b[36m0:00:01\u001b[0m\n",
      "\u001b[?25hCollecting joblib>=1.2.0 (from scikit-learn)\n",
      "  Downloading joblib-1.3.2-py3-none-any.whl.metadata (5.4 kB)\n",
      "Collecting threadpoolctl>=2.0.0 (from scikit-learn)\n",
      "  Downloading threadpoolctl-3.4.0-py3-none-any.whl.metadata (13 kB)\n",
      "Requirement already satisfied: python-dateutil>=2.8.2 in /usr/local/lib/python3.11/dist-packages (from pandas) (2.9.0.post0)\n",
      "Collecting pytz>=2020.1 (from pandas)\n",
      "  Downloading pytz-2024.1-py2.py3-none-any.whl.metadata (22 kB)\n",
      "Collecting tzdata>=2022.7 (from pandas)\n",
      "  Downloading tzdata-2024.1-py2.py3-none-any.whl.metadata (1.4 kB)\n",
      "Requirement already satisfied: absl-py in /usr/local/lib/python3.11/dist-packages (from keras) (2.1.0)\n",
      "Requirement already satisfied: rich in /usr/local/lib/python3.11/dist-packages (from keras) (13.7.1)\n",
      "Requirement already satisfied: namex in /usr/local/lib/python3.11/dist-packages (from keras) (0.0.7)\n",
      "Requirement already satisfied: h5py in /usr/local/lib/python3.11/dist-packages (from keras) (3.10.0)\n",
      "Requirement already satisfied: dm-tree in /usr/local/lib/python3.11/dist-packages (from keras) (0.1.8)\n",
      "Requirement already satisfied: ml-dtypes in /usr/local/lib/python3.11/dist-packages (from keras) (0.3.2)\n",
      "Collecting contourpy>=1.0.1 (from matplotlib)\n",
      "  Downloading contourpy-1.2.1-cp311-cp311-manylinux_2_17_x86_64.manylinux2014_x86_64.whl.metadata (5.8 kB)\n",
      "Collecting cycler>=0.10 (from matplotlib)\n",
      "  Downloading cycler-0.12.1-py3-none-any.whl.metadata (3.8 kB)\n",
      "Collecting fonttools>=4.22.0 (from matplotlib)\n",
      "  Downloading fonttools-4.50.0-cp311-cp311-manylinux_2_17_x86_64.manylinux2014_x86_64.whl.metadata (159 kB)\n",
      "\u001b[2K     \u001b[90m━━━━━━━━━━━━━━━━━━━━━━━━━━━━━━━━━━━━━━━\u001b[0m \u001b[32m159.4/159.4 kB\u001b[0m \u001b[31m3.7 MB/s\u001b[0m eta \u001b[36m0:00:00\u001b[0ma \u001b[36m0:00:01\u001b[0m\n",
      "\u001b[?25hCollecting kiwisolver>=1.3.1 (from matplotlib)\n",
      "  Downloading kiwisolver-1.4.5-cp311-cp311-manylinux_2_17_x86_64.manylinux2014_x86_64.whl.metadata (6.4 kB)\n",
      "Requirement already satisfied: packaging>=20.0 in /usr/local/lib/python3.11/dist-packages (from matplotlib) (23.2)\n",
      "Collecting pillow>=8 (from matplotlib)\n",
      "  Downloading pillow-10.3.0-cp311-cp311-manylinux_2_28_x86_64.whl.metadata (9.2 kB)\n",
      "Requirement already satisfied: pyparsing>=2.3.1 in /usr/lib/python3/dist-packages (from matplotlib) (2.4.7)\n",
      "Requirement already satisfied: requests in /usr/local/lib/python3.11/dist-packages (from keras-tuner) (2.31.0)\n",
      "Collecting kt-legacy (from keras-tuner)\n",
      "  Downloading kt_legacy-1.0.5-py3-none-any.whl.metadata (221 bytes)\n",
      "Requirement already satisfied: astunparse>=1.6.0 in /usr/local/lib/python3.11/dist-packages (from tensorflow) (1.6.3)\n",
      "Requirement already satisfied: flatbuffers>=23.5.26 in /usr/local/lib/python3.11/dist-packages (from tensorflow) (24.3.7)\n",
      "Requirement already satisfied: gast!=0.5.0,!=0.5.1,!=0.5.2,>=0.2.1 in /usr/local/lib/python3.11/dist-packages (from tensorflow) (0.5.4)\n",
      "Requirement already satisfied: google-pasta>=0.1.1 in /usr/local/lib/python3.11/dist-packages (from tensorflow) (0.2.0)\n",
      "Requirement already satisfied: libclang>=13.0.0 in /usr/local/lib/python3.11/dist-packages (from tensorflow) (16.0.6)\n",
      "Requirement already satisfied: opt-einsum>=2.3.2 in /usr/local/lib/python3.11/dist-packages (from tensorflow) (3.3.0)\n",
      "Requirement already satisfied: protobuf!=4.21.0,!=4.21.1,!=4.21.2,!=4.21.3,!=4.21.4,!=4.21.5,<5.0.0dev,>=3.20.3 in /usr/local/lib/python3.11/dist-packages (from tensorflow) (4.25.3)\n",
      "Requirement already satisfied: setuptools in /usr/local/lib/python3.11/dist-packages (from tensorflow) (69.1.1)\n",
      "Requirement already satisfied: six>=1.12.0 in /usr/lib/python3/dist-packages (from tensorflow) (1.16.0)\n",
      "Requirement already satisfied: termcolor>=1.1.0 in /usr/local/lib/python3.11/dist-packages (from tensorflow) (2.4.0)\n",
      "Requirement already satisfied: typing-extensions>=3.6.6 in /usr/local/lib/python3.11/dist-packages (from tensorflow) (4.10.0)\n",
      "Requirement already satisfied: wrapt>=1.11.0 in /usr/local/lib/python3.11/dist-packages (from tensorflow) (1.16.0)\n",
      "Requirement already satisfied: grpcio<2.0,>=1.24.3 in /usr/local/lib/python3.11/dist-packages (from tensorflow) (1.62.1)\n",
      "Requirement already satisfied: tensorboard<2.17,>=2.16 in /usr/local/lib/python3.11/dist-packages (from tensorflow) (2.16.2)\n",
      "Requirement already satisfied: tensorflow-io-gcs-filesystem>=0.23.1 in /usr/local/lib/python3.11/dist-packages (from tensorflow) (0.36.0)\n",
      "Requirement already satisfied: wheel<1.0,>=0.23.0 in /usr/local/lib/python3.11/dist-packages (from astunparse>=1.6.0->tensorflow) (0.42.0)\n",
      "Requirement already satisfied: charset-normalizer<4,>=2 in /usr/local/lib/python3.11/dist-packages (from requests->keras-tuner) (3.3.2)\n",
      "Requirement already satisfied: idna<4,>=2.5 in /usr/local/lib/python3.11/dist-packages (from requests->keras-tuner) (3.6)\n",
      "Requirement already satisfied: urllib3<3,>=1.21.1 in /usr/local/lib/python3.11/dist-packages (from requests->keras-tuner) (2.2.1)\n",
      "Requirement already satisfied: certifi>=2017.4.17 in /usr/local/lib/python3.11/dist-packages (from requests->keras-tuner) (2024.2.2)\n",
      "Requirement already satisfied: markdown>=2.6.8 in /usr/local/lib/python3.11/dist-packages (from tensorboard<2.17,>=2.16->tensorflow) (3.5.2)\n",
      "Requirement already satisfied: tensorboard-data-server<0.8.0,>=0.7.0 in /usr/local/lib/python3.11/dist-packages (from tensorboard<2.17,>=2.16->tensorflow) (0.7.2)\n",
      "Requirement already satisfied: werkzeug>=1.0.1 in /usr/local/lib/python3.11/dist-packages (from tensorboard<2.17,>=2.16->tensorflow) (3.0.1)\n",
      "Requirement already satisfied: markdown-it-py>=2.2.0 in /usr/local/lib/python3.11/dist-packages (from rich->keras) (3.0.0)\n",
      "Requirement already satisfied: pygments<3.0.0,>=2.13.0 in /usr/local/lib/python3.11/dist-packages (from rich->keras) (2.17.2)\n",
      "Requirement already satisfied: mdurl~=0.1 in /usr/local/lib/python3.11/dist-packages (from markdown-it-py>=2.2.0->rich->keras) (0.1.2)\n",
      "Requirement already satisfied: MarkupSafe>=2.1.1 in /usr/local/lib/python3.11/dist-packages (from werkzeug>=1.0.1->tensorboard<2.17,>=2.16->tensorflow) (2.1.5)\n",
      "Downloading scikit_learn-1.4.1.post1-cp311-cp311-manylinux_2_17_x86_64.manylinux2014_x86_64.whl (12.1 MB)\n",
      "\u001b[2K   \u001b[90m━━━━━━━━━━━━━━━━━━━━━━━━━━━━━━━━━━━━━━━━\u001b[0m \u001b[32m12.1/12.1 MB\u001b[0m \u001b[31m47.5 MB/s\u001b[0m eta \u001b[36m0:00:00\u001b[0m \u001b[36m0:00:01\u001b[0m\n",
      "\u001b[?25hDownloading pandas-2.2.1-cp311-cp311-manylinux_2_17_x86_64.manylinux2014_x86_64.whl (13.0 MB)\n",
      "\u001b[2K   \u001b[90m━━━━━━━━━━━━━━━━━━━━━━━━━━━━━━━━━━━━━━━━\u001b[0m \u001b[32m13.0/13.0 MB\u001b[0m \u001b[31m48.8 MB/s\u001b[0m eta \u001b[36m0:00:00\u001b[0ma \u001b[36m0:00:01\u001b[0m\n",
      "\u001b[?25hDownloading matplotlib-3.8.4-cp311-cp311-manylinux_2_17_x86_64.manylinux2014_x86_64.whl (11.6 MB)\n",
      "\u001b[2K   \u001b[90m━━━━━━━━━━━━━━━━━━━━━━━━━━━━━━━━━━━━━━━━\u001b[0m \u001b[32m11.6/11.6 MB\u001b[0m \u001b[31m54.1 MB/s\u001b[0m eta \u001b[36m0:00:00\u001b[0ma \u001b[36m0:00:01\u001b[0m\n",
      "\u001b[?25hDownloading keras_tuner-1.4.7-py3-none-any.whl (129 kB)\n",
      "\u001b[2K   \u001b[90m━━━━━━━━━━━━━━━━━━━━━━━━━━━━━━━━━━━━━━━━\u001b[0m \u001b[32m129.1/129.1 kB\u001b[0m \u001b[31m34.4 MB/s\u001b[0m eta \u001b[36m0:00:00\u001b[0m\n",
      "\u001b[?25hDownloading contourpy-1.2.1-cp311-cp311-manylinux_2_17_x86_64.manylinux2014_x86_64.whl (306 kB)\n",
      "\u001b[2K   \u001b[90m━━━━━━━━━━━━━━━━━━━━━━━━━━━━━━━━━━━━━━━━\u001b[0m \u001b[32m306.0/306.0 kB\u001b[0m \u001b[31m78.6 MB/s\u001b[0m eta \u001b[36m0:00:00\u001b[0m\n",
      "\u001b[?25hDownloading cycler-0.12.1-py3-none-any.whl (8.3 kB)\n",
      "Downloading fonttools-4.50.0-cp311-cp311-manylinux_2_17_x86_64.manylinux2014_x86_64.whl (4.9 MB)\n",
      "\u001b[2K   \u001b[90m━━━━━━━━━━━━━━━━━━━━━━━━━━━━━━━━━━━━━━━━\u001b[0m \u001b[32m4.9/4.9 MB\u001b[0m \u001b[31m58.7 MB/s\u001b[0m eta \u001b[36m0:00:00\u001b[0ma \u001b[36m0:00:01\u001b[0m\n",
      "\u001b[?25hDownloading joblib-1.3.2-py3-none-any.whl (302 kB)\n",
      "\u001b[2K   \u001b[90m━━━━━━━━━━━━━━━━━━━━━━━━━━━━━━━━━━━━━━━\u001b[0m \u001b[32m302.2/302.2 kB\u001b[0m \u001b[31m100.1 MB/s\u001b[0m eta \u001b[36m0:00:00\u001b[0m\n",
      "\u001b[?25hDownloading kiwisolver-1.4.5-cp311-cp311-manylinux_2_17_x86_64.manylinux2014_x86_64.whl (1.4 MB)\n",
      "\u001b[2K   \u001b[90m━━━━━━━━━━━━━━━━━━━━━━━━━━━━━━━━━━━━━━━━\u001b[0m \u001b[32m1.4/1.4 MB\u001b[0m \u001b[31m86.9 MB/s\u001b[0m eta \u001b[36m0:00:00\u001b[0m\n",
      "\u001b[?25hDownloading pillow-10.3.0-cp311-cp311-manylinux_2_28_x86_64.whl (4.5 MB)\n",
      "\u001b[2K   \u001b[90m━━━━━━━━━━━━━━━━━━━━━━━━━━━━━━━━━━━━━━━━\u001b[0m \u001b[32m4.5/4.5 MB\u001b[0m \u001b[31m57.3 MB/s\u001b[0m eta \u001b[36m0:00:00\u001b[0ma \u001b[36m0:00:01\u001b[0m\n",
      "\u001b[?25hDownloading pytz-2024.1-py2.py3-none-any.whl (505 kB)\n",
      "\u001b[2K   \u001b[90m━━━━━━━━━━━━━━━━━━━━━━━━━━━━━━━━━━━━━━━━\u001b[0m \u001b[32m505.5/505.5 kB\u001b[0m \u001b[31m78.3 MB/s\u001b[0m eta \u001b[36m0:00:00\u001b[0m\n",
      "\u001b[?25hDownloading scipy-1.13.0-cp311-cp311-manylinux_2_17_x86_64.manylinux2014_x86_64.whl (38.6 MB)\n",
      "\u001b[2K   \u001b[90m━━━━━━━━━━━━━━━━━━━━━━━━━━━━━━━━━━━━━━━━\u001b[0m \u001b[32m38.6/38.6 MB\u001b[0m \u001b[31m35.2 MB/s\u001b[0m eta \u001b[36m0:00:00\u001b[0m00:01\u001b[0m00:01\u001b[0m\n",
      "\u001b[?25hDownloading threadpoolctl-3.4.0-py3-none-any.whl (17 kB)\n",
      "Downloading tzdata-2024.1-py2.py3-none-any.whl (345 kB)\n",
      "\u001b[2K   \u001b[90m━━━━━━━━━━━━━━━━━━━━━━━━━━━━━━━━━━━━━━━━\u001b[0m \u001b[32m345.4/345.4 kB\u001b[0m \u001b[31m59.7 MB/s\u001b[0m eta \u001b[36m0:00:00\u001b[0m\n",
      "\u001b[?25hDownloading kt_legacy-1.0.5-py3-none-any.whl (9.6 kB)\n",
      "Installing collected packages: pytz, kt-legacy, tzdata, threadpoolctl, scipy, pillow, kiwisolver, joblib, fonttools, cycler, contourpy, scikit-learn, pandas, matplotlib, keras-tuner\n",
      "Successfully installed contourpy-1.2.1 cycler-0.12.1 fonttools-4.50.0 joblib-1.3.2 keras-tuner-1.4.7 kiwisolver-1.4.5 kt-legacy-1.0.5 matplotlib-3.8.4 pandas-2.2.1 pillow-10.3.0 pytz-2024.1 scikit-learn-1.4.1.post1 scipy-1.13.0 threadpoolctl-3.4.0 tzdata-2024.1\n",
      "\u001b[33mWARNING: Running pip as the 'root' user can result in broken permissions and conflicting behaviour with the system package manager. It is recommended to use a virtual environment instead: https://pip.pypa.io/warnings/venv\u001b[0m\u001b[33m\n",
      "\u001b[0mNote: you may need to restart the kernel to use updated packages.\n"
     ]
    }
   ],
   "source": [
    "%pip install scikit-learn pandas numpy keras matplotlib keras-tuner tensorflow\n",
    "# INSTALL TENSORFLOW SEPARATELY pip install \"tensorflow<2.11\" if on windows\n",
    "# IF YOU HAVE GPU RECOMMEND INSTALL CUDA AND CUDNN"
   ]
  },
  {
   "cell_type": "code",
   "execution_count": 3,
   "id": "initial_id",
   "metadata": {
    "ExecuteTime": {
     "end_time": "2024-04-04T18:27:33.171145800Z",
     "start_time": "2024-04-04T18:27:33.140641900Z"
    }
   },
   "outputs": [],
   "source": [
    "import pandas as pd\n",
    "from sklearn.preprocessing import MinMaxScaler\n",
    "import numpy as np\n",
    "import keras\n",
    "from sklearn.model_selection import train_test_split\n",
    "import matplotlib.pyplot as plt\n",
    "from keras.mixed_precision import set_global_policy\n",
    "from keras.callbacks import EarlyStopping\n",
    "from keras.layers import LSTM, Dropout, Dense, BatchNormalization, Input\n",
    "import random\n",
    "from keras_tuner import HyperModel\n",
    "from keras_tuner.tuners import RandomSearch"
   ]
  },
  {
   "cell_type": "code",
   "execution_count": 4,
   "id": "6904ec0dd3360ae",
   "metadata": {
    "ExecuteTime": {
     "end_time": "2024-04-04T18:27:33.454016400Z",
     "start_time": "2024-04-04T18:27:33.435525800Z"
    },
    "collapsed": false,
    "jupyter": {
     "outputs_hidden": false
    }
   },
   "outputs": [
    {
     "name": "stdout",
     "output_type": "stream",
     "text": [
      "TensorFlow version: 2.16.1\n",
      "Number of GPUs Available:  1\n",
      "Default GPU Device: /device:GPU:0\n"
     ]
    },
    {
     "name": "stderr",
     "output_type": "stream",
     "text": [
      "2024-04-05 21:14:40.569909: I tensorflow/core/common_runtime/gpu/gpu_device.cc:1928] Created device /device:GPU:0 with 22283 MB memory:  -> device: 0, name: NVIDIA GeForce RTX 4090, pci bus id: 0000:c1:00.0, compute capability: 8.9\n"
     ]
    }
   ],
   "source": [
    "import tensorflow as tf\n",
    "\n",
    "# Check if GPU is available\n",
    "# Trust me you prefer using a GPU for training\n",
    "print(\"TensorFlow version:\", tf.__version__)\n",
    "print(\"Number of GPUs Available: \", len(tf.config.list_physical_devices('GPU')))\n",
    "if tf.config.list_physical_devices('GPU'):\n",
    "    print(\"Default GPU Device: {}\".format(tf.test.gpu_device_name()))\n",
    "else:\n",
    "    print(\"Please install GPU version of TF\")"
   ]
  },
  {
   "cell_type": "code",
   "execution_count": 5,
   "id": "3cb2796ecba4c923",
   "metadata": {
    "ExecuteTime": {
     "end_time": "2024-04-04T16:59:57.331594100Z",
     "start_time": "2024-04-04T16:59:57.316520100Z"
    },
    "collapsed": false,
    "jupyter": {
     "outputs_hidden": false
    }
   },
   "outputs": [
    {
     "name": "stdout",
     "output_type": "stream",
     "text": [
      "1 Physical GPUs, 1 Logical GPUs\n"
     ]
    },
    {
     "name": "stderr",
     "output_type": "stream",
     "text": [
      "2024-04-05 21:14:42.381485: I tensorflow/core/common_runtime/gpu/gpu_device.cc:1928] Created device /job:localhost/replica:0/task:0/device:GPU:0 with 22283 MB memory:  -> device: 0, name: NVIDIA GeForce RTX 4090, pci bus id: 0000:c1:00.0, compute capability: 8.9\n"
     ]
    }
   ],
   "source": [
    "gpus = tf.config.experimental.list_physical_devices('GPU')\n",
    "if gpus:\n",
    "    try:\n",
    "        # Currently, memory growth needs to be the same across GPUs\n",
    "        for gpu in gpus:\n",
    "            tf.config.experimental.set_memory_growth(gpu, True)\n",
    "        logical_gpus = tf.config.experimental.list_logical_devices('GPU')\n",
    "        print(len(gpus), \"Physical GPUs,\", len(logical_gpus), \"Logical GPUs\")\n",
    "    except RuntimeError as e:\n",
    "        # Memory growth must be set before GPUs have been initialized\n",
    "        print(e)"
   ]
  },
  {
   "cell_type": "markdown",
   "id": "7ba967dc-8261-466f-b3d7-e6a057272dc0",
   "metadata": {},
   "source": [
    "## Data preprocessing\n",
    "The data is preprocessed by grouping information in groups of a set time step, currently its 100. Therefore the past 100 candlesticks of data will be used to predict the next one"
   ]
  },
  {
   "cell_type": "code",
   "execution_count": 6,
   "id": "e2e038758031f8a9",
   "metadata": {
    "ExecuteTime": {
     "end_time": "2024-04-04T18:29:18.394007600Z",
     "start_time": "2024-04-04T18:29:18.362904400Z"
    },
    "collapsed": false,
    "jupyter": {
     "outputs_hidden": false
    }
   },
   "outputs": [],
   "source": [
    "# Group data into time steps and have the next value as the label\n",
    "def create_dataset(dataset, time_step=100):\n",
    "    dataX, dataY = [], []\n",
    "    for i in range(len(dataset) - time_step - 1):\n",
    "        a = dataset[i:(i + time_step), :]\n",
    "        dataX.append(a)\n",
    "        dataY.append(dataset[i + time_step, -2])\n",
    "    return np.array(dataX), np.array(dataY)\n",
    "\n",
    "def preprocess_dataset(X, Y, batch_size):\n",
    "    dataset = tf.data.Dataset.from_tensor_slices((X, Y))\n",
    "    dataset = dataset.cache()  # Cache data\n",
    "    dataset = dataset.shuffle(buffer_size=len(X)).batch(batch_size)  # Shuffle and batch\n",
    "    dataset = dataset.prefetch(buffer_size=tf.data.AUTOTUNE)  # Prefetch data\n",
    "    return dataset"
   ]
  },
  {
   "cell_type": "code",
   "execution_count": 7,
   "id": "8436874ef2d0eb07",
   "metadata": {
    "ExecuteTime": {
     "end_time": "2024-04-04T18:30:10.678154800Z",
     "start_time": "2024-04-04T18:30:10.207562300Z"
    },
    "collapsed": false,
    "jupyter": {
     "outputs_hidden": false
    }
   },
   "outputs": [
    {
     "data": {
      "text/html": [
       "<div>\n",
       "<style scoped>\n",
       "    .dataframe tbody tr th:only-of-type {\n",
       "        vertical-align: middle;\n",
       "    }\n",
       "\n",
       "    .dataframe tbody tr th {\n",
       "        vertical-align: top;\n",
       "    }\n",
       "\n",
       "    .dataframe thead th {\n",
       "        text-align: right;\n",
       "    }\n",
       "</style>\n",
       "<table border=\"1\" class=\"dataframe\">\n",
       "  <thead>\n",
       "    <tr style=\"text-align: right;\">\n",
       "      <th></th>\n",
       "      <th>openPrice</th>\n",
       "      <th>highPrice</th>\n",
       "      <th>lowPrice</th>\n",
       "      <th>closePrice</th>\n",
       "      <th>lastTradedVolume</th>\n",
       "    </tr>\n",
       "    <tr>\n",
       "      <th>snapshotTimeUTC</th>\n",
       "      <th></th>\n",
       "      <th></th>\n",
       "      <th></th>\n",
       "      <th></th>\n",
       "      <th></th>\n",
       "    </tr>\n",
       "  </thead>\n",
       "  <tbody>\n",
       "    <tr>\n",
       "      <th>2017-05-02 06:00:00</th>\n",
       "      <td>12449.8</td>\n",
       "      <td>12465.0</td>\n",
       "      <td>12439.0</td>\n",
       "      <td>12461.8</td>\n",
       "      <td>554</td>\n",
       "    </tr>\n",
       "    <tr>\n",
       "      <th>2017-05-02 06:05:00</th>\n",
       "      <td>12462.0</td>\n",
       "      <td>12467.0</td>\n",
       "      <td>12458.0</td>\n",
       "      <td>12459.0</td>\n",
       "      <td>260</td>\n",
       "    </tr>\n",
       "    <tr>\n",
       "      <th>2017-05-02 06:10:00</th>\n",
       "      <td>12459.5</td>\n",
       "      <td>12469.0</td>\n",
       "      <td>12459.5</td>\n",
       "      <td>12466.5</td>\n",
       "      <td>299</td>\n",
       "    </tr>\n",
       "    <tr>\n",
       "      <th>2017-05-02 06:15:00</th>\n",
       "      <td>12466.3</td>\n",
       "      <td>12466.5</td>\n",
       "      <td>12462.0</td>\n",
       "      <td>12464.5</td>\n",
       "      <td>216</td>\n",
       "    </tr>\n",
       "    <tr>\n",
       "      <th>2017-05-02 06:20:00</th>\n",
       "      <td>12464.5</td>\n",
       "      <td>12465.0</td>\n",
       "      <td>12461.8</td>\n",
       "      <td>12465.0</td>\n",
       "      <td>152</td>\n",
       "    </tr>\n",
       "  </tbody>\n",
       "</table>\n",
       "</div>"
      ],
      "text/plain": [
       "                     openPrice  highPrice  lowPrice  closePrice  \\\n",
       "snapshotTimeUTC                                                   \n",
       "2017-05-02 06:00:00    12449.8    12465.0   12439.0     12461.8   \n",
       "2017-05-02 06:05:00    12462.0    12467.0   12458.0     12459.0   \n",
       "2017-05-02 06:10:00    12459.5    12469.0   12459.5     12466.5   \n",
       "2017-05-02 06:15:00    12466.3    12466.5   12462.0     12464.5   \n",
       "2017-05-02 06:20:00    12464.5    12465.0   12461.8     12465.0   \n",
       "\n",
       "                     lastTradedVolume  \n",
       "snapshotTimeUTC                        \n",
       "2017-05-02 06:00:00               554  \n",
       "2017-05-02 06:05:00               260  \n",
       "2017-05-02 06:10:00               299  \n",
       "2017-05-02 06:15:00               216  \n",
       "2017-05-02 06:20:00               152  "
      ]
     },
     "execution_count": 7,
     "metadata": {},
     "output_type": "execute_result"
    }
   ],
   "source": [
    "data = pd.read_csv('big.csv', parse_dates=['snapshotTimeUTC'])\n",
    "data.set_index('snapshotTimeUTC', inplace=True)\n",
    "features = data[['openPrice', 'highPrice', 'lowPrice', 'closePrice', 'lastTradedVolume']].values\n",
    "data.head()"
   ]
  },
  {
   "cell_type": "code",
   "execution_count": 8,
   "id": "fb9d1ee7d93aa754",
   "metadata": {
    "ExecuteTime": {
     "end_time": "2024-04-04T18:31:17.175520800Z",
     "start_time": "2024-04-04T18:31:17.145762300Z"
    },
    "collapsed": false,
    "jupyter": {
     "outputs_hidden": false
    }
   },
   "outputs": [
    {
     "data": {
      "text/plain": [
       "392034"
      ]
     },
     "execution_count": 8,
     "metadata": {},
     "output_type": "execute_result"
    }
   ],
   "source": [
    "scaler = MinMaxScaler(feature_range=(0, 1))\n",
    "normalised_features = scaler.fit_transform(features)\n",
    "len(normalised_features)"
   ]
  },
  {
   "cell_type": "code",
   "execution_count": 9,
   "id": "f025f4c35b331d5c",
   "metadata": {
    "ExecuteTime": {
     "end_time": "2024-04-04T18:31:19.447634900Z",
     "start_time": "2024-04-04T18:31:18.593782200Z"
    },
    "collapsed": false,
    "jupyter": {
     "outputs_hidden": false
    }
   },
   "outputs": [],
   "source": [
    "X, Y = create_dataset(normalised_features)"
   ]
  },
  {
   "cell_type": "code",
   "execution_count": 10,
   "id": "7daa79222ad5b256",
   "metadata": {
    "ExecuteTime": {
     "end_time": "2024-04-04T18:31:54.941339400Z",
     "start_time": "2024-04-04T18:31:54.934442400Z"
    },
    "collapsed": false,
    "jupyter": {
     "outputs_hidden": false
    }
   },
   "outputs": [],
   "source": [
    "# Define the split point\n",
    "split_point = int(len(X) * 0.8)\n",
    "\n",
    "# Split the data into training and testing sets by slicing\n",
    "X_train, X_test = X[:split_point, :, :], X[split_point:, :, :]\n",
    "Y_train, Y_test = Y[:split_point], Y[split_point:]\n",
    "\n",
    "batch_size = 64 \n",
    "train_dataset = preprocess_dataset(X_train, Y_train, batch_size)\n",
    "val_dataset = preprocess_dataset(X_test, Y_test, batch_size)"
   ]
  },
  {
   "cell_type": "code",
   "execution_count": 11,
   "id": "3d8e3c81-5c7c-4d6c-bfc7-746eaadfbff6",
   "metadata": {},
   "outputs": [],
   "source": [
    "set_global_policy('mixed_float16')"
   ]
  },
  {
   "cell_type": "markdown",
   "id": "c50d98a5-da89-4a97-936e-39261823f732",
   "metadata": {},
   "source": [
    "## Hyperparameter tuning\n",
    "In an attempt to optimise the model, I decided to tune the hyperparameters. I decided to test between 1 and 5 LSTM layers. Surprisingly the tuner consistently gave back that 1 layer with many units was optimal for every dataset I gave it. This also seemed to be the case when I was playing around with different model layers and hyperparameters"
   ]
  },
  {
   "cell_type": "code",
   "execution_count": 12,
   "id": "3bd2793ccbaaa14b",
   "metadata": {
    "ExecuteTime": {
     "end_time": "2024-04-04T18:31:58.290108700Z",
     "start_time": "2024-04-04T18:31:58.270666Z"
    },
    "collapsed": false,
    "jupyter": {
     "outputs_hidden": false
    }
   },
   "outputs": [],
   "source": [
    "# Hyperparameter tuning\n",
    "class LSTMHyperModel(HyperModel):\n",
    "    def __init__(self, input_shape):\n",
    "        self.input_shape = input_shape\n",
    "    \n",
    "    def build(self, hp):\n",
    "        model = keras.Sequential()\n",
    "        model.add(Input(shape=self.input_shape))\n",
    "        \n",
    "        # Tune the number of LSTM layers and the number of units in each layer\n",
    "        for i in range(hp.Int('num_layers', 1, 5)):\n",
    "            model.add(LSTM(units=hp.Int('units_' + str(i),\n",
    "                                                     min_value=32,\n",
    "                                                     max_value=512,\n",
    "                                                     step=32),\n",
    "                                         return_sequences=i < hp.get('num_layers') - 1))\n",
    "            model.add(Dropout(hp.Float('dropout_' + str(i), 0.0, 0.5, step=0.1)))\n",
    "            model.add(BatchNormalization())\n",
    "        \n",
    "        model.add(Dense(1))\n",
    "        model.compile(optimizer=keras.optimizers.Adam(hp.Choice('learning_rate', [1e-2, 1e-3, 1e-4])),\n",
    "                      loss='mean_squared_error')\n",
    "\n",
    "        model.optimizer = tf.keras.mixed_precision.LossScaleOptimizer(model.optimizer)\n",
    "        \n",
    "        return model"
   ]
  },
  {
   "cell_type": "code",
   "execution_count": 13,
   "id": "de92f94e9ad16ad7",
   "metadata": {
    "ExecuteTime": {
     "end_time": "2024-04-04T18:44:00.351522500Z",
     "start_time": "2024-04-04T18:32:19.571796500Z"
    },
    "collapsed": false,
    "jupyter": {
     "outputs_hidden": false
    }
   },
   "outputs": [
    {
     "name": "stdout",
     "output_type": "stream",
     "text": [
      "Reloading Tuner from random_search/big/tuner0.json\n"
     ]
    }
   ],
   "source": [
    "input_shape = (X_train.shape[1], 5)\n",
    "hypermodel = LSTMHyperModel(input_shape=input_shape)\n",
    "\n",
    "tuner = RandomSearch(\n",
    "    hypermodel,\n",
    "    objective='val_loss',\n",
    "    max_trials=10,\n",
    "    executions_per_trial=2,\n",
    "    directory='random_search',\n",
    "    project_name='big'\n",
    ")\n",
    "\n",
    "tuner.search(train_dataset, epochs=20, validation_data=val_dataset, callbacks=[tf.keras.callbacks.EarlyStopping(monitor='val_loss', patience=5)])"
   ]
  },
  {
   "cell_type": "code",
   "execution_count": 14,
   "id": "b831790e3f18b4b5",
   "metadata": {
    "ExecuteTime": {
     "end_time": "2024-04-04T17:00:32.795048600Z",
     "start_time": "2024-04-04T17:00:31.309670500Z"
    },
    "collapsed": false,
    "jupyter": {
     "outputs_hidden": false
    }
   },
   "outputs": [
    {
     "name": "stderr",
     "output_type": "stream",
     "text": [
      "/usr/local/lib/python3.11/dist-packages/keras/src/saving/saving_lib.py:396: UserWarning: Skipping variable loading for optimizer 'loss_scale_optimizer', because it has 4 variables whereas the saved optimizer has 20 variables. \n",
      "  trackable.load_own_variables(weights_store.get(inner_path))\n",
      "/usr/local/lib/python3.11/dist-packages/keras/src/saving/saving_lib.py:396: UserWarning: Skipping variable loading for optimizer 'adam', because it has 2 variables whereas the saved optimizer has 16 variables. \n",
      "  trackable.load_own_variables(weights_store.get(inner_path))\n"
     ]
    },
    {
     "data": {
      "text/plain": [
       "{'num_layers': 1,\n",
       " 'units_0': 352,\n",
       " 'dropout_0': 0.0,\n",
       " 'learning_rate': 0.0001,\n",
       " 'units_1': 320,\n",
       " 'dropout_1': 0.2,\n",
       " 'units_2': 288,\n",
       " 'dropout_2': 0.1,\n",
       " 'units_3': 224,\n",
       " 'dropout_3': 0.1,\n",
       " 'units_4': 512,\n",
       " 'dropout_4': 0.2}"
      ]
     },
     "execution_count": 14,
     "metadata": {},
     "output_type": "execute_result"
    }
   ],
   "source": [
    "model = tuner.get_best_models(num_models=1)[0]\n",
    "\n",
    "best_hyperparameters = tuner.get_best_hyperparameters()[0]\n",
    "best_hyperparameters.values"
   ]
  },
  {
   "cell_type": "markdown",
   "id": "46ae6953-6c55-4d2b-be7e-26215cd13377",
   "metadata": {},
   "source": [
    "## Building the model manually\n",
    "Here I tried many different models and played around with what seemed to work best. From my own testing the below model seemed to work best"
   ]
  },
  {
   "cell_type": "code",
   "execution_count": 23,
   "id": "2cba439e-dd2c-4771-905c-239f66e949d3",
   "metadata": {},
   "outputs": [],
   "source": [
    "model = keras.Sequential()\n",
    "# First LSTM layer with Dropout regularisation\n",
    "model.add(Input(shape=(X_train.shape[1], 5)))\n",
    "model.add(LSTM(units=200, return_sequences=True))\n",
    "model.add(Dropout(0.3))\n",
    "\n",
    "model.add(LSTM(units=120, return_sequences=True))\n",
    "model.add(Dropout(0.1))\n",
    "\n",
    "model.add(LSTM(units=80, return_sequences=True))\n",
    "model.add(Dropout(0.2))\n",
    "\n",
    "model.add(LSTM(units=40))\n",
    "model.add(Dropout(0.3))\n",
    "\n",
    "model.add(Dense(units=1))\n",
    "\n",
    "\n",
    "model.compile(optimizer='adam',loss='mean_squared_error')"
   ]
  },
  {
   "cell_type": "code",
   "execution_count": 15,
   "id": "563525738f161d42",
   "metadata": {
    "ExecuteTime": {
     "end_time": "2024-04-04T17:00:45.634805900Z",
     "start_time": "2024-04-04T17:00:45.604974Z"
    },
    "collapsed": false,
    "jupyter": {
     "outputs_hidden": false
    }
   },
   "outputs": [
    {
     "data": {
      "text/html": [
       "<pre style=\"white-space:pre;overflow-x:auto;line-height:normal;font-family:Menlo,'DejaVu Sans Mono',consolas,'Courier New',monospace\"><span style=\"font-weight: bold\">Model: \"sequential\"</span>\n",
       "</pre>\n"
      ],
      "text/plain": [
       "\u001b[1mModel: \"sequential\"\u001b[0m\n"
      ]
     },
     "metadata": {},
     "output_type": "display_data"
    },
    {
     "data": {
      "text/html": [
       "<pre style=\"white-space:pre;overflow-x:auto;line-height:normal;font-family:Menlo,'DejaVu Sans Mono',consolas,'Courier New',monospace\">┏━━━━━━━━━━━━━━━━━━━━━━━━━━━━━━━━━┳━━━━━━━━━━━━━━━━━━━━━━━━┳━━━━━━━━━━━━━━━┓\n",
       "┃<span style=\"font-weight: bold\"> Layer (type)                    </span>┃<span style=\"font-weight: bold\"> Output Shape           </span>┃<span style=\"font-weight: bold\">       Param # </span>┃\n",
       "┡━━━━━━━━━━━━━━━━━━━━━━━━━━━━━━━━━╇━━━━━━━━━━━━━━━━━━━━━━━━╇━━━━━━━━━━━━━━━┩\n",
       "│ lstm (<span style=\"color: #0087ff; text-decoration-color: #0087ff\">LSTM</span>)                     │ (<span style=\"color: #00d7ff; text-decoration-color: #00d7ff\">None</span>, <span style=\"color: #00af00; text-decoration-color: #00af00\">352</span>)            │       <span style=\"color: #00af00; text-decoration-color: #00af00\">504,064</span> │\n",
       "├─────────────────────────────────┼────────────────────────┼───────────────┤\n",
       "│ dropout (<span style=\"color: #0087ff; text-decoration-color: #0087ff\">Dropout</span>)               │ (<span style=\"color: #00d7ff; text-decoration-color: #00d7ff\">None</span>, <span style=\"color: #00af00; text-decoration-color: #00af00\">352</span>)            │             <span style=\"color: #00af00; text-decoration-color: #00af00\">0</span> │\n",
       "├─────────────────────────────────┼────────────────────────┼───────────────┤\n",
       "│ batch_normalization             │ (<span style=\"color: #00d7ff; text-decoration-color: #00d7ff\">None</span>, <span style=\"color: #00af00; text-decoration-color: #00af00\">352</span>)            │         <span style=\"color: #00af00; text-decoration-color: #00af00\">1,408</span> │\n",
       "│ (<span style=\"color: #0087ff; text-decoration-color: #0087ff\">BatchNormalization</span>)            │                        │               │\n",
       "├─────────────────────────────────┼────────────────────────┼───────────────┤\n",
       "│ dense (<span style=\"color: #0087ff; text-decoration-color: #0087ff\">Dense</span>)                   │ (<span style=\"color: #00d7ff; text-decoration-color: #00d7ff\">None</span>, <span style=\"color: #00af00; text-decoration-color: #00af00\">1</span>)              │           <span style=\"color: #00af00; text-decoration-color: #00af00\">353</span> │\n",
       "└─────────────────────────────────┴────────────────────────┴───────────────┘\n",
       "</pre>\n"
      ],
      "text/plain": [
       "┏━━━━━━━━━━━━━━━━━━━━━━━━━━━━━━━━━┳━━━━━━━━━━━━━━━━━━━━━━━━┳━━━━━━━━━━━━━━━┓\n",
       "┃\u001b[1m \u001b[0m\u001b[1mLayer (type)                   \u001b[0m\u001b[1m \u001b[0m┃\u001b[1m \u001b[0m\u001b[1mOutput Shape          \u001b[0m\u001b[1m \u001b[0m┃\u001b[1m \u001b[0m\u001b[1m      Param #\u001b[0m\u001b[1m \u001b[0m┃\n",
       "┡━━━━━━━━━━━━━━━━━━━━━━━━━━━━━━━━━╇━━━━━━━━━━━━━━━━━━━━━━━━╇━━━━━━━━━━━━━━━┩\n",
       "│ lstm (\u001b[38;5;33mLSTM\u001b[0m)                     │ (\u001b[38;5;45mNone\u001b[0m, \u001b[38;5;34m352\u001b[0m)            │       \u001b[38;5;34m504,064\u001b[0m │\n",
       "├─────────────────────────────────┼────────────────────────┼───────────────┤\n",
       "│ dropout (\u001b[38;5;33mDropout\u001b[0m)               │ (\u001b[38;5;45mNone\u001b[0m, \u001b[38;5;34m352\u001b[0m)            │             \u001b[38;5;34m0\u001b[0m │\n",
       "├─────────────────────────────────┼────────────────────────┼───────────────┤\n",
       "│ batch_normalization             │ (\u001b[38;5;45mNone\u001b[0m, \u001b[38;5;34m352\u001b[0m)            │         \u001b[38;5;34m1,408\u001b[0m │\n",
       "│ (\u001b[38;5;33mBatchNormalization\u001b[0m)            │                        │               │\n",
       "├─────────────────────────────────┼────────────────────────┼───────────────┤\n",
       "│ dense (\u001b[38;5;33mDense\u001b[0m)                   │ (\u001b[38;5;45mNone\u001b[0m, \u001b[38;5;34m1\u001b[0m)              │           \u001b[38;5;34m353\u001b[0m │\n",
       "└─────────────────────────────────┴────────────────────────┴───────────────┘\n"
      ]
     },
     "metadata": {},
     "output_type": "display_data"
    },
    {
     "data": {
      "text/html": [
       "<pre style=\"white-space:pre;overflow-x:auto;line-height:normal;font-family:Menlo,'DejaVu Sans Mono',consolas,'Courier New',monospace\"><span style=\"font-weight: bold\"> Total params: </span><span style=\"color: #00af00; text-decoration-color: #00af00\">505,825</span> (1.93 MB)\n",
       "</pre>\n"
      ],
      "text/plain": [
       "\u001b[1m Total params: \u001b[0m\u001b[38;5;34m505,825\u001b[0m (1.93 MB)\n"
      ]
     },
     "metadata": {},
     "output_type": "display_data"
    },
    {
     "data": {
      "text/html": [
       "<pre style=\"white-space:pre;overflow-x:auto;line-height:normal;font-family:Menlo,'DejaVu Sans Mono',consolas,'Courier New',monospace\"><span style=\"font-weight: bold\"> Trainable params: </span><span style=\"color: #00af00; text-decoration-color: #00af00\">505,121</span> (1.93 MB)\n",
       "</pre>\n"
      ],
      "text/plain": [
       "\u001b[1m Trainable params: \u001b[0m\u001b[38;5;34m505,121\u001b[0m (1.93 MB)\n"
      ]
     },
     "metadata": {},
     "output_type": "display_data"
    },
    {
     "data": {
      "text/html": [
       "<pre style=\"white-space:pre;overflow-x:auto;line-height:normal;font-family:Menlo,'DejaVu Sans Mono',consolas,'Courier New',monospace\"><span style=\"font-weight: bold\"> Non-trainable params: </span><span style=\"color: #00af00; text-decoration-color: #00af00\">704</span> (2.75 KB)\n",
       "</pre>\n"
      ],
      "text/plain": [
       "\u001b[1m Non-trainable params: \u001b[0m\u001b[38;5;34m704\u001b[0m (2.75 KB)\n"
      ]
     },
     "metadata": {},
     "output_type": "display_data"
    }
   ],
   "source": [
    "model.summary()"
   ]
  },
  {
   "cell_type": "code",
   "execution_count": 28,
   "id": "253e61adb6222669",
   "metadata": {
    "ExecuteTime": {
     "end_time": "2024-04-04T17:11:36.616144800Z",
     "start_time": "2024-04-04T17:10:11.770024500Z"
    },
    "collapsed": false,
    "jupyter": {
     "outputs_hidden": false
    }
   },
   "outputs": [
    {
     "name": "stdout",
     "output_type": "stream",
     "text": [
      "Epoch 1/100\n",
      "\u001b[1m4900/4900\u001b[0m \u001b[32m━━━━━━━━━━━━━━━━━━━━\u001b[0m\u001b[37m\u001b[0m \u001b[1m46s\u001b[0m 9ms/step - loss: 3.2326e-04 - val_loss: 5.6937e-05\n",
      "Epoch 2/100\n",
      "\u001b[1m4900/4900\u001b[0m \u001b[32m━━━━━━━━━━━━━━━━━━━━\u001b[0m\u001b[37m\u001b[0m \u001b[1m47s\u001b[0m 9ms/step - loss: 3.1370e-04 - val_loss: 9.0958e-06\n",
      "Epoch 3/100\n",
      "\u001b[1m4900/4900\u001b[0m \u001b[32m━━━━━━━━━━━━━━━━━━━━\u001b[0m\u001b[37m\u001b[0m \u001b[1m46s\u001b[0m 9ms/step - loss: 3.0775e-04 - val_loss: 3.2319e-05\n",
      "Epoch 4/100\n",
      "\u001b[1m4900/4900\u001b[0m \u001b[32m━━━━━━━━━━━━━━━━━━━━\u001b[0m\u001b[37m\u001b[0m \u001b[1m46s\u001b[0m 9ms/step - loss: 3.1290e-04 - val_loss: 4.1388e-05\n",
      "Epoch 5/100\n",
      "\u001b[1m4900/4900\u001b[0m \u001b[32m━━━━━━━━━━━━━━━━━━━━\u001b[0m\u001b[37m\u001b[0m \u001b[1m47s\u001b[0m 9ms/step - loss: 3.2187e-04 - val_loss: 1.8652e-06\n",
      "Epoch 6/100\n",
      "\u001b[1m4900/4900\u001b[0m \u001b[32m━━━━━━━━━━━━━━━━━━━━\u001b[0m\u001b[37m\u001b[0m \u001b[1m46s\u001b[0m 9ms/step - loss: 3.2308e-04 - val_loss: 5.4348e-07\n",
      "Epoch 7/100\n",
      "\u001b[1m4900/4900\u001b[0m \u001b[32m━━━━━━━━━━━━━━━━━━━━\u001b[0m\u001b[37m\u001b[0m \u001b[1m46s\u001b[0m 9ms/step - loss: 2.9974e-04 - val_loss: 2.3616e-06\n",
      "Epoch 8/100\n",
      "\u001b[1m4900/4900\u001b[0m \u001b[32m━━━━━━━━━━━━━━━━━━━━\u001b[0m\u001b[37m\u001b[0m \u001b[1m45s\u001b[0m 9ms/step - loss: 3.2555e-04 - val_loss: 1.4588e-04\n",
      "Epoch 9/100\n",
      "\u001b[1m4900/4900\u001b[0m \u001b[32m━━━━━━━━━━━━━━━━━━━━\u001b[0m\u001b[37m\u001b[0m \u001b[1m44s\u001b[0m 9ms/step - loss: 3.2304e-04 - val_loss: 5.8813e-05\n",
      "Epoch 10/100\n",
      "\u001b[1m4900/4900\u001b[0m \u001b[32m━━━━━━━━━━━━━━━━━━━━\u001b[0m\u001b[37m\u001b[0m \u001b[1m46s\u001b[0m 9ms/step - loss: 3.2571e-04 - val_loss: 6.1209e-05\n",
      "Epoch 11/100\n",
      "\u001b[1m4900/4900\u001b[0m \u001b[32m━━━━━━━━━━━━━━━━━━━━\u001b[0m\u001b[37m\u001b[0m \u001b[1m46s\u001b[0m 9ms/step - loss: 3.3533e-04 - val_loss: 5.1930e-05\n"
     ]
    }
   ],
   "source": [
    "# Stop training if validation loss does not improve for 5 epochs\n",
    "early_stopping = EarlyStopping(monitor='val_loss', patience=5, restore_best_weights=True)\n",
    "history = model.fit(train_dataset, epochs=100, batch_size=32, validation_data=val_dataset, callbacks=[early_stopping])"
   ]
  },
  {
   "cell_type": "code",
   "execution_count": 29,
   "id": "cc7a2a338d995f69",
   "metadata": {
    "ExecuteTime": {
     "end_time": "2024-04-04T17:11:39.337859300Z",
     "start_time": "2024-04-04T17:11:39.225270900Z"
    },
    "collapsed": false,
    "jupyter": {
     "outputs_hidden": false
    }
   },
   "outputs": [
    {
     "data": {
      "image/png": "[encoded data removed]",
      "text/plain": [
       "<Figure size 640x480 with 1 Axes>"
      ]
     },
     "metadata": {},
     "output_type": "display_data"
    }
   ],
   "source": [
    "# Plot training and validation loss\n",
    "plt.plot(history.history['loss'])\n",
    "plt.plot(history.history['val_loss'])\n",
    "plt.title('Model loss')\n",
    "plt.ylabel('Loss')\n",
    "plt.xlabel('Epoch')\n",
    "plt.legend(['Train', 'Test'], loc='upper left')\n",
    "plt.show()"
   ]
  },
  {
   "cell_type": "markdown",
   "id": "f73b4da2-f6ce-4815-b9ac-cf0792f4d5f2",
   "metadata": {},
   "source": [
    "## Plotting the stock price prediction next to the actual stock price\n",
    "Here I'm plotting at each point what the AI thinks the next stock price is going to be.\\\n",
    "At each point it's using the past 100 actual stock price points therefore this is showing how accurate it is when predicting just the next price point."
   ]
  },
  {
   "cell_type": "code",
   "execution_count": 115,
   "id": "e6f9825934de900b",
   "metadata": {
    "ExecuteTime": {
     "end_time": "2024-04-04T17:11:40.605006600Z",
     "start_time": "2024-04-04T17:11:40.222497100Z"
    },
    "collapsed": false,
    "jupyter": {
     "outputs_hidden": false
    }
   },
   "outputs": [
    {
     "name": "stdout",
     "output_type": "stream",
     "text": [
      "\u001b[1m4/4\u001b[0m \u001b[32m━━━━━━━━━━━━━━━━━━━━\u001b[0m\u001b[37m\u001b[0m \u001b[1m0s\u001b[0m 4ms/step \n"
     ]
    },
    {
     "data": {
      "image/png": "[encoded data removed]",
      "text/plain": [
       "<Figure size 640x480 with 1 Axes>"
      ]
     },
     "metadata": {},
     "output_type": "display_data"
    }
   ],
   "source": [
    "# Find a random place and predict those 50 prices \n",
    "# Plot the actual and predicted stock prices alongside each other\n",
    "\n",
    "last_prices = 100\n",
    "\n",
    "random_index = random.randint(0, len(X) - 50)\n",
    "X_test = X[-last_prices:]\n",
    "Y_test = Y[-last_prices:]\n",
    "predictions = model.predict(X_test)\n",
    "\n",
    "dummy_array = np.zeros_like(features[-last_prices:])\n",
    "dummy_array[:, -2] = predictions.flatten()\n",
    "\n",
    "predictions = scaler.inverse_transform(dummy_array)\n",
    "\n",
    "dummy_array = np.zeros_like(features[-last_prices:])\n",
    "dummy_array[:, -2] = Y_test.flatten()\n",
    "\n",
    "actual = scaler.inverse_transform(dummy_array)\n",
    "\n",
    "time_sequence = np.arange(len(actual))\n",
    "\n",
    "plt.plot(time_sequence, actual[:, -2], color='black', label='Actual Stock Price',  markersize=4) \n",
    "plt.plot(time_sequence, predictions[:, -2], color='blue', label='Predicted Stock Price', markersize=4) \n",
    "\n",
    "plt.title('Stock Price Prediction')\n",
    "plt.xlabel('Time')\n",
    "plt.ylabel('Stock Price')\n",
    "plt.legend()\n",
    "plt.show()"
   ]
  },
  {
   "cell_type": "markdown",
   "id": "ab96f1e7-e64d-4015-b123-f28c585b5e07",
   "metadata": {},
   "source": [
    "## Predicting multiple prices in the future\n",
    "Considering my model takes an input of 5 features, high, low, open, close, volume, I needed to use the models predictions to predict multiple stocks in the future.\\\n",
    "It works by setting the the high, low, open, close to the same predicted value and keeping the volume the same. It continuously predicts off its own predictions to get to the next one. This however is only accurate for a few prices in advance due to the accumulation in prediction error."
   ]
  },
  {
   "cell_type": "code",
   "execution_count": 89,
   "id": "a2d8c757-0f4a-4d3d-a745-f302678fd915",
   "metadata": {},
   "outputs": [],
   "source": [
    "def predict_future_close_prices(model, initial_sequence, n_future_steps=10):\n",
    "    future_prices = []\n",
    "    current_sequence = np.array(initial_sequence) \n",
    "    \n",
    "    for _ in range(n_future_steps):\n",
    "        # Predict the next close price\n",
    "        next_price_prediction = model.predict(current_sequence, verbose=0)[0, 0]\n",
    "        \n",
    "        # Append predicted close price to the list\n",
    "        future_prices.append(next_price_prediction)\n",
    "        \n",
    "        # Update the sequence with the predicted close price\n",
    "        # Set open, high, and low to the predicted close, keep the last known volume\n",
    "        new_row = current_sequence[:, -1:, :].reshape(5)\n",
    "        new_row[0] = new_row[1] = new_row[2] = new_row[3] = next_price_prediction  # open, high, low, close\n",
    "        \n",
    "        # Roll the sequence to simulate moving forward in time\n",
    "        current_sequence = np.roll(current_sequence, -1, axis=1)\n",
    "        current_sequence[:, -1:] = new_row.reshape(1, 1, 5)  # Insert new row\n",
    "    \n",
    "    return np.array(future_prices)\n"
   ]
  },
  {
   "cell_type": "markdown",
   "id": "ad34ea1d-cbff-4daa-a8e5-ef006f8279e8",
   "metadata": {},
   "source": [
    "## Pick a random point in the data set and predict future\n",
    "Here I'm picking a random spot and predicting n future prices in advance and show n previous steps to show the "
   ]
  },
  {
   "cell_type": "code",
   "execution_count": 121,
   "id": "c495364962bd3577",
   "metadata": {
    "ExecuteTime": {
     "end_time": "2024-04-04T15:21:15.430288200Z",
     "start_time": "2024-04-04T15:21:15.017527100Z"
    },
    "collapsed": false,
    "jupyter": {
     "outputs_hidden": false
    }
   },
   "outputs": [
    {
     "data": {
      "image/png": "[encoded data removed]",
      "text/plain": [
       "<Figure size 1000x600 with 1 Axes>"
      ]
     },
     "metadata": {},
     "output_type": "display_data"
    }
   ],
   "source": [
    "# Number of future steps you want to predict\n",
    "n_future_steps = 20\n",
    "n_previous_steps = 50\n",
    "\n",
    "# Select a random starting point for prediction\n",
    "max_start_index = len(X) - n_future_steps\n",
    "random_start_index = random.randint(0, max_start_index)\n",
    "\n",
    "# Get sequence at the random start index\n",
    "initial_sequence = X[random_start_index:random_start_index + 1] \n",
    "\n",
    "predicted_prices = predict_future_close_prices(model, initial_sequence, n_future_steps=n_future_steps)\n",
    "\n",
    "dummy_array = np.zeros((n_future_steps, 5))\n",
    "dummy_array[:, -2] = predicted_prices\n",
    "predicted_prices_scaled_back = scaler.inverse_transform(dummy_array)[:, 3]\n",
    "\n",
    "actual_future_prices = Y[random_start_index + 1 - n_previous_steps:random_start_index + 1 + n_future_steps]\n",
    "\n",
    "dummy_features_for_Y = np.zeros((n_future_steps+n_previous_steps, 5))  \n",
    "\n",
    "dummy_features_for_Y[:, -2] = actual_future_prices  \n",
    "\n",
    "actual_future_prices_scaled_back = scaler.inverse_transform(dummy_features_for_Y)[:, -2]  \n",
    "\n",
    "time_sequence = np.arange(n_future_steps + n_previous_steps)\n",
    "time_sequence_predicted = np.arange(n_previous_steps + 1, n_previous_steps + 1 + n_future_steps)\n",
    "\n",
    "plt.figure(figsize=(10, 6))\n",
    "plt.plot(time_sequence_predicted, predicted_prices_scaled_back, label='Predicted Close Prices', linestyle='--', color='red')\n",
    "plt.plot(time_sequence, actual_future_prices_scaled_back, label='Actual Close Prices', linestyle='-', color='blue')\n",
    "plt.title('Predicted vs Actual Future Close Prices')\n",
    "plt.xlabel('Time Steps')\n",
    "plt.ylabel('Stock Price')\n",
    "plt.legend()\n",
    "plt.show()"
   ]
  }
 ],
 "metadata": {
  "kernelspec": {
   "display_name": "Python 3 (ipykernel)",
   "language": "python",
   "name": "python3"
  },
  "language_info": {
   "codemirror_mode": {
    "name": "ipython",
    "version": 3
   },
   "file_extension": ".py",
   "mimetype": "text/x-python",
   "name": "python",
   "nbconvert_exporter": "python",
   "pygments_lexer": "ipython3",
   "version": "3.11.0rc1"
  }
 },
 "nbformat": 4,
 "nbformat_minor": 5
}
